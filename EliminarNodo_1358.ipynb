{
  "nbformat": 4,
  "nbformat_minor": 0,
  "metadata": {
    "colab": {
      "name": "EliminarNodo_1358.ipynb",
      "provenance": [],
      "authorship_tag": "ABX9TyPmzxsbHjtrJtaREoFsPvJ+",
      "include_colab_link": true
    },
    "kernelspec": {
      "name": "python3",
      "display_name": "Python 3"
    },
    "language_info": {
      "name": "python"
    }
  },
  "cells": [
    {
      "cell_type": "markdown",
      "metadata": {
        "id": "view-in-github",
        "colab_type": "text"
      },
      "source": [
        "<a href=\"https://colab.research.google.com/github/valeria-gl/Tarea-7/blob/main/EliminarNodo_1358.ipynb\" target=\"_parent\"><img src=\"https://colab.research.google.com/assets/colab-badge.svg\" alt=\"Open In Colab\"/></a>"
      ]
    },
    {
      "cell_type": "code",
      "metadata": {
        "id": "ti5r5REuBa-E"
      },
      "source": [
        "class BinaryNode:\n",
        "  def __init__(self, value, left = None, right = None):\n",
        "    self.data = value\n",
        "    self.left = left\n",
        "    self.right = right\n",
        "  \n",
        "class BinarySearchTree:\n",
        "  def __init__(self):\n",
        "    self.root = None\n",
        "\n",
        "  def insert(self, value):\n",
        "    if self.root == None:\n",
        "      self.root = BinaryNode(value)\n",
        "    else:\n",
        "      self.__insert_nodo(self.root, value)\n",
        "\n",
        "  def __insert_nodo(self, nodo, value):\n",
        "    if nodo.data == value:\n",
        "      pass\n",
        "    elif value < nodo.data:\n",
        "      if nodo.left == None:\n",
        "        nodo.left = BinaryNode(value)\n",
        "      else:\n",
        "        self.__insert_nodo(nodo.left, value)\n",
        "    else:\n",
        "      if nodo.right == None:\n",
        "        nodo.right = BinaryNode(value)\n",
        "      else:\n",
        "        self.__insert_nodo(nodo.right, value)\n",
        "  \n",
        "  def transversal(self, formato = \"posorden\"):\n",
        "    if formato == \"posorden\":\n",
        "      self.recorrido_pos(self.root)\n",
        "    elif formato == \"preorden\":\n",
        "      self.recorrido_pre(self.root)\n",
        "    else:\n",
        "      self.recorrido_in(self.root)\n",
        "    print(\"\")\n",
        "\n",
        "  def recorrido_pos(self, nodo):\n",
        "    if nodo != None:\n",
        "      self.recorrido_pos(nodo.left)\n",
        "      self.recorrido_pos(nodo.right)\n",
        "      print(str(nodo.data), end = \" , \")\n",
        "\n",
        "  def recorrido_pre(self, nodo):\n",
        "    if nodo != None:\n",
        "      print(str(nodo.data), end = \" , \")\n",
        "      self.recorrido_pre(nodo.left)\n",
        "      self.recorrido_pre(nodo.right)\n",
        "\n",
        "  def recorrido_in(self, nodo):\n",
        "    if nodo != None:\n",
        "      self.recorrido_in(nodo.left)\n",
        "      print(str(nodo.data), end = \" , \")\n",
        "      self.recorrido_in(nodo.right)\n",
        "\n",
        "  def search(self, value):\n",
        "    if self.root == None:\n",
        "      print(\"El arbol está vacío\")\n",
        "      return None\n",
        "    else:\n",
        "      return self.__search(self.root, value)\n",
        "\n",
        "  def __search(self, nodo, value):\n",
        "    if nodo == None:\n",
        "      print(\"El dato no existe en el árbol\")\n",
        "      return None\n",
        "    elif nodo.data == value:\n",
        "      print(\"Encontrado\")\n",
        "      return nodo\n",
        "    elif value < nodo.data:\n",
        "      return self.__search(nodo.left, value)\n",
        "    else:\n",
        "      return self.__search(nodo.right, value)\n",
        "\n",
        "  def remove(self, value):\n",
        "    if self.root == None:\n",
        "      print(\"El árbol está vacío\")\n",
        "      return None\n",
        "    else:\n",
        "      return self.__remove(self.root, value)\n",
        "  \n",
        "  def reemplazo(self, nodo):\n",
        "    hoja = nodo.data\n",
        "    while nodo.left != None:\n",
        "      hoja = nodo.left.data\n",
        "      nodo = nodo.left\n",
        "    return hoja\n",
        "  \n",
        "  def __remove(self, nodo, value):\n",
        "    if nodo == None:\n",
        "      print(\"El dato no existe en el árbol\")\n",
        "      return None\n",
        "    elif value < nodo.data:\n",
        "      nodo.left = self.__remove(nodo.left, value)\n",
        "    elif value > nodo.data:\n",
        "      nodo.right = self.__remove(nodo.right, value)\n",
        "    else:\n",
        "      if nodo.left == None:\n",
        "        return nodo.right\n",
        "      elif nodo.right == None:\n",
        "        return nodo.left\n",
        "      nodo.data = self.reemplazo(nodo.right)\n",
        "      nodo.right = self.__remove(nodo.right, nodo.data)\n",
        "    return nodo"
      ],
      "execution_count": 8,
      "outputs": []
    },
    {
      "cell_type": "code",
      "metadata": {
        "colab": {
          "base_uri": "https://localhost:8080/"
        },
        "id": "YEg1hkYpBhtl",
        "outputId": "3ac4c4c7-146a-4ab0-8547-e38c6656a0f4"
      },
      "source": [
        "ejemplo = BinarySearchTree()\n",
        "ejemplo.insert(8)\n",
        "ejemplo.insert(5)\n",
        "ejemplo.insert(1)\n",
        "ejemplo.insert(4)\n",
        "ejemplo.insert(6)\n",
        "ejemplo.insert(7)\n",
        "ejemplo.insert(20)\n",
        "ejemplo.insert(12)\n",
        "ejemplo.insert(23)\n",
        "ejemplo.transversal(\"preorden\")\n",
        "print(\"-.-.-.-.-.-.-.--.-.-.-.-.-.-.-\")\n",
        "ejemplo.remove(45) \n",
        "ejemplo.remove(7)\n",
        "ejemplo.remove(23)\n",
        "ejemplo.remove(4)\n",
        "ejemplo.transversal(\"preorden\")"
      ],
      "execution_count": 9,
      "outputs": [
        {
          "output_type": "stream",
          "name": "stdout",
          "text": [
            "8 , 5 , 1 , 4 , 6 , 7 , 20 , 12 , 23 , \n",
            "-.-.-.-.-.-.-.--.-.-.-.-.-.-.-\n",
            "El dato no existe en el árbol\n",
            "8 , 5 , 1 , 6 , 20 , 12 , \n"
          ]
        }
      ]
    }
  ]
}